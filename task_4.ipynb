{
  "nbformat": 4,
  "nbformat_minor": 0,
  "metadata": {
    "colab": {
      "provenance": [],
      "authorship_tag": "ABX9TyNKVS8LwYUNwu9zGCzvQ2vm",
      "include_colab_link": true
    },
    "kernelspec": {
      "name": "python3",
      "display_name": "Python 3"
    },
    "language_info": {
      "name": "python"
    }
  },
  "cells": [
    {
      "cell_type": "markdown",
      "metadata": {
        "id": "view-in-github",
        "colab_type": "text"
      },
      "source": [
        "<a href=\"https://colab.research.google.com/github/sridevi0224/Task1/blob/main/task_4.ipynb\" target=\"_parent\"><img src=\"https://colab.research.google.com/assets/colab-badge.svg\" alt=\"Open In Colab\"/></a>"
      ]
    },
    {
      "cell_type": "code",
      "execution_count": null,
      "metadata": {
        "colab": {
          "base_uri": "https://localhost:8080/"
        },
        "id": "zBPcZUTg_bYR",
        "outputId": "15ba2ba9-7379-42b6-b959-42765a273ec0"
      },
      "outputs": [
        {
          "output_type": "stream",
          "name": "stdout",
          "text": [
            "Error: Cannot open video file.\n",
            "Video ended or failed to read frame.\n"
          ]
        }
      ],
      "source": [
        "import cv2\n",
        "\n",
        "# Load a video file (replace with your own file path)\n",
        "video_path = 'sample_video.mp4'\n",
        "cap = cv2.VideoCapture(video_path)\n",
        "\n",
        "# Check if video opened successfully\n",
        "if not cap.isOpened():\n",
        "    print(\"Error: Cannot open video file.\")\n",
        "    exit()\n",
        "\n",
        "# Create Background Subtractor\n",
        "bg_subtractor = cv2.createBackgroundSubtractorMOG2(history=500, varThreshold=40, detectShadows=True)\n",
        "\n",
        "while True:\n",
        "    ret, frame = cap.read()\n",
        "\n",
        "    if not ret:\n",
        "        print(\"Video ended or failed to read frame.\")\n",
        "        break\n",
        "\n",
        "    # Resize frame (optional)\n",
        "    frame = cv2.resize(frame, (640, 480))\n",
        "\n",
        "    # Apply background subtractor\n",
        "    fg_mask = bg_subtractor.apply(frame)\n",
        "\n",
        "    # Display original and foreground mask\n",
        "    cv2.imshow('Original Video', frame)\n",
        "    cv2.imshow('Foreground Mask', fg_mask)\n",
        "\n",
        "    # Exit with 'q'\n",
        "    if cv2.waitKey(30) & 0xFF == ord('q'):\n",
        "        break\n",
        "\n",
        "cap.release()\n",
        "cv2.destroyAllWindows()\n"
      ]
    }
  ]
}